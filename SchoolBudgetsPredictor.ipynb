{
 "nbformat": 4,
 "nbformat_minor": 2,
 "metadata": {
  "language_info": {
   "name": "python",
   "codemirror_mode": {
    "name": "ipython",
    "version": 3
   },
   "version": "3.7.6-final"
  },
  "orig_nbformat": 2,
  "file_extension": ".py",
  "mimetype": "text/x-python",
  "name": "python",
  "npconvert_exporter": "python",
  "pygments_lexer": "ipython3",
  "version": 3,
  "kernelspec": {
   "name": "python37664bitc30deacdfc314bf0ab55258624adc68b",
   "display_name": "Python 3.7.6 64-bit"
  }
 },
 "cells": [
  {
   "cell_type": "markdown",
   "metadata": {},
   "source": [
    "# Introduction\n",
    "https://github.com/datacamp/course-resources-ml-with-experts-budgets\n",
    "## Topic: \n",
    "School Budgets problem from DrivenData.org\n",
    "School budgets are huge, complex and non-standardized within the US\n",
    "School want to measure their performance\n",
    "## Goal: \n",
    "Build Machine Learning Algorithm that automate the labeling of spendings\n",
    "## Data:\n",
    "Line-Data with description:\n",
    "like \"Algebra books for 8th grade students\"\n",
    "Labels attached like: \"Math\", \"Middle School\", \"Textbooks\"\n",
    "## Type of the problem:\n",
    "Supervised Learning Problem -> Using correct labeled data to predict the label of an unlabeled sample\n",
    "predict the label -> Classification problem\n",
    "predict the probability of each target variables possible value (logreg?)\n",
    "## Specials:\n",
    "Over 100 target variables\n",
    "9 columns with several possible Labels\n",
    "predicting variable-value-probabilities via dummy variables\n",
    "## Exploring the data:\n",
    "Loading dataset via:"
   ]
  },
  {
   "cell_type": "code",
   "execution_count": 8,
   "metadata": {},
   "outputs": [
    {
     "output_type": "stream",
     "name": "stdout",
     "text": "[22.03.2020 00:00:03]: Pysical Cell ID: 113  ...   RSRQ: -15\n0  [22.03.2020 00:00:03]: Pysical Cell ID: 113  ...   RSRQ: -15\n1  [22.03.2020 00:00:03]: Pysical Cell ID: 113  ...   RSRQ: -15\n2  [22.03.2020 00:00:03]: Pysical Cell ID: 113  ...   RSRQ: -15\n3  [22.03.2020 00:00:04]: Pysical Cell ID: 113  ...    RSRQ: -9\n4  [22.03.2020 00:00:05]: Pysical Cell ID: 113  ...    RSRQ: -7\n\n[5 rows x 4 columns]\n<class 'pandas.core.frame.DataFrame'>\nRangeIndex: 86314 entries, 0 to 86313\nData columns (total 4 columns):\n[22.03.2020 00:00:03]: Pysical Cell ID: 113    86314 non-null object\n Cell ID: 30325764                             86314 non-null object\n RSRP: -100                                    86314 non-null object\n RSRQ: -15                                     86314 non-null object\ndtypes: object(4)\nmemory usage: 2.6+ MB\nNone\n        [22.03.2020 00:00:03]: Pysical Cell ID: 113  ...  RSRQ: -15\ncount                                         86314  ...      86314\nunique                                        68425  ...         14\ntop     [22.03.2020 15:36:37]: Pysical Cell ID: 113  ...   RSRQ: -8\nfreq                                             10  ...      26625\n\n[4 rows x 4 columns]\nDer Befehl \"pwd\" ist entweder falsch geschrieben oder\nkonnte nicht gefunden werden.\n"
    }
   ],
   "source": [
    "#import packages\n",
    "import pandas as pd\n",
    "\n",
    "#load a sample set of the data  !!!!!!!!!!!!! -- Change to the real dataset\n",
    "sample_df = pd.read_csv(\"22.03.2020.txt\")\n",
    "\n",
    "#explore basics via head (data example), info(data structure) and describe(summary statistics)\n",
    "print(sample_df.head())\n",
    "print( sample_df.info())\n",
    "print(sample_df.describe())\n",
    "\n"
   ]
  }
 ]
}